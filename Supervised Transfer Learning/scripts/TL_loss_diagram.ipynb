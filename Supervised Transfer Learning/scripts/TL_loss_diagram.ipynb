{
 "cells": [
  {
   "cell_type": "code",
   "execution_count": null,
   "metadata": {},
   "outputs": [],
   "source": [
    "# Resets all saved variables\n",
    "%reset -f\n",
    "import h5py\n",
    "import matplotlib.pyplot as plt \n",
    "import numpy as np\n",
    "import csv\n",
    "from csv import reader"
   ]
  },
  {
   "cell_type": "code",
   "execution_count": null,
   "metadata": {},
   "outputs": [],
   "source": [
    "EPOCH_LOSS_HISTORY_FILE_PATH = \"../models/\" + \"1612996735_loss_history_epoch.csv\"\n",
    "BATCH_LOSS_HISTORY_FILE_PATH = \"../models/\" + \"1612996735_loss_history_batch.csv\"\n"
   ]
  },
  {
   "cell_type": "code",
   "execution_count": null,
   "metadata": {},
   "outputs": [],
   "source": [
    "# Load data from file\n",
    "def loadData(file_path):\n",
    "    loss_list = []\n",
    "    with open(file_path, \"r\") as loss_file:\n",
    "        csv_reader = reader(loss_file)\n",
    "        for line in csv_reader:\n",
    "            loss_list.append(float(line[0]))\n",
    "    \n",
    "    return loss_list\n",
    "# plot one graph in one diagram\n",
    "def plot_diagram(values, title, xlabel, ylabel, xTicks, disableFormat=False, color='tab:blue'):\n",
    "    \n",
    "    # x axis \n",
    "    plt.xlabel(xlabel)\n",
    "    plt.xticks(np.arange(0, len(values), xTicks))\n",
    "    plt.ticklabel_format(axis=\"x\", style=\"plain\", scilimits=(0,0))  \n",
    "    \n",
    "    # y axis \n",
    "    plt.ylabel(ylabel) \n",
    "    \n",
    "    # giving a title to the graph\n",
    "    plt.title(title) \n",
    "    plt.plot(values, color=color)\n",
    "    \n",
    "    # function to show the plot \n",
    "    plt.show()"
   ]
  },
  {
   "cell_type": "code",
   "execution_count": null,
   "metadata": {},
   "outputs": [],
   "source": [
    "epoch_loss_list = loadData(EPOCH_LOSS_HISTORY_FILE_PATH)\n",
    "\n",
    "title = 'Loss (MSE) during training of transfer learning model'\n",
    "xlabel = 'Training epoch'\n",
    "yLabel = 'Loss per epoch'\n",
    "xTicks = 100\n",
    "\n",
    "plt.figure(figsize=(10,7))\n",
    "plt.ylim([230, 450])\n",
    "plot_diagram(epoch_loss_list, title, xlabel, yLabel, xTicks)"
   ]
  },
  {
   "cell_type": "code",
   "execution_count": null,
   "metadata": {},
   "outputs": [],
   "source": [
    "batch_loss_list = loadData(BATCH_LOSS_HISTORY_FILE_PATH)\n",
    "\n",
    "title = 'Loss (MSE) during training of transfer learning model (Batchsize = 64)'\n",
    "xlabel = 'Batch number'\n",
    "yLabel = 'Loss per batch'\n",
    "xTicks = 1_000_000\n",
    "yLim = 750\n",
    "\n",
    "plt.figure(figsize=(10,7))\n",
    "plt.ylim([150, 750])\n",
    "plot_diagram(batch_loss_list, title, xlabel, yLabel, xTicks, True)"
   ]
  },
  {
   "cell_type": "code",
   "execution_count": null,
   "metadata": {},
   "outputs": [],
   "source": []
  }
 ],
 "metadata": {
  "kernelspec": {
   "name": "python3",
   "display_name": "Python 3.7.1 64-bit ('PythonCPU': conda)",
   "metadata": {
    "interpreter": {
     "hash": "c6b29cf2b794df9959700c468441647df78b1f78c0fe2f7f771fdd055d7feae8"
    }
   }
  },
  "language_info": {
   "codemirror_mode": {
    "name": "ipython",
    "version": 3
   },
   "file_extension": ".py",
   "mimetype": "text/x-python",
   "name": "python",
   "nbconvert_exporter": "python",
   "pygments_lexer": "ipython3",
   "version": "3.7.1-final"
  }
 },
 "nbformat": 4,
 "nbformat_minor": 4
}